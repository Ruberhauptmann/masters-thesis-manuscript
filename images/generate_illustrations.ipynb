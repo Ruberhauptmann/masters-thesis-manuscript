{
 "cells": [
  {
   "cell_type": "code",
   "id": "initial_id",
   "metadata": {
    "collapsed": true,
    "ExecuteTime": {
     "end_time": "2025-01-17T13:24:01.440135Z",
     "start_time": "2025-01-17T13:24:01.433227Z"
    }
   },
   "source": [
    "import numpy as np\n",
    "import matplotlib.pyplot as plt\n",
    "import scienceplots\n",
    "from matplotlib import cm\n",
    "from scipy.optimize import fmin"
   ],
   "outputs": [],
   "execution_count": 104
  },
  {
   "metadata": {
    "ExecuteTime": {
     "end_time": "2025-01-17T13:24:01.494930Z",
     "start_time": "2025-01-17T13:24:01.488514Z"
    }
   },
   "cell_type": "code",
   "source": "WIDTH = 2.584",
   "id": "8b765cbeff301061",
   "outputs": [],
   "execution_count": 105
  },
  {
   "metadata": {
    "ExecuteTime": {
     "end_time": "2025-01-17T13:24:01.549689Z",
     "start_time": "2025-01-17T13:24:01.543048Z"
    }
   },
   "cell_type": "code",
   "source": [
    "plt.style.use(['./thesis.mplstyle', \"science\", \"grid\", \"muted\"])\n",
    "#plt.style.use(['./thesis.mplstyle'])"
   ],
   "id": "ba5f295b819b7d81",
   "outputs": [],
   "execution_count": 106
  },
  {
   "metadata": {
    "ExecuteTime": {
     "end_time": "2025-01-17T13:24:01.603697Z",
     "start_time": "2025-01-17T13:24:01.598098Z"
    }
   },
   "cell_type": "code",
   "source": [
    "def landau_free_energy(phi, a, t, T_C, u):\n",
    "    return -0.5 * a * T_C * (1 - t) * np.power(np.abs(phi), 2) + 0.25 * u * np.power(np.abs(phi), 4)"
   ],
   "id": "3d8ea49536cdcb6e",
   "outputs": [],
   "execution_count": 107
  },
  {
   "metadata": {
    "ExecuteTime": {
     "end_time": "2025-01-17T13:24:01.683732Z",
     "start_time": "2025-01-17T13:24:01.651450Z"
    }
   },
   "cell_type": "code",
   "source": [
    "a = 1\n",
    "T_C = 1\n",
    "u = 1\n",
    "\n",
    "phi = np.linspace(-1.5, 1.5, num=500)\n",
    "\n",
    "fig, ax = plt.subplots(figsize=(WIDTH, WIDTH))\n",
    "\n",
    "t = 0.4\n",
    "ax.plot(phi, landau_free_energy(phi, a, t, T_C, u))\n",
    "ax.text(-1.45, 0.35, r'$T < T_C$', size=\"small\", rotation=-80, color=\"C0\")\n",
    "\n",
    "t = 1e-6\n",
    "ax.plot(phi, landau_free_energy(phi, a, t, T_C, u))\n",
    "\n",
    "t = 4\n",
    "ax.plot(phi, landau_free_energy(phi, a, t, T_C, u))\n",
    "ax.text(-0.55, 0.35, '$T > T_C$', size=\"small\", rotation=-80, color=\"C2\")\n",
    "\n",
    "t = 1\n",
    "ax.plot(phi, landau_free_energy(phi, a, t, T_C, u))\n",
    "ax.text(-1.15, 0.35, '$T = T_C$', size=\"small\", rotation=-80, color=\"C3\")\n",
    "\n",
    "# Move the left and bottom spines to x = 0 and y = 0, respectively.\n",
    "ax.spines[\"left\"].set_position((\"data\", 0))\n",
    "ax.spines[\"bottom\"].set_position((\"data\", 0))\n",
    "# Hide the top and right spines.\n",
    "ax.spines[\"top\"].set_visible(False)\n",
    "ax.spines[\"right\"].set_visible(False)\n",
    "\n",
    "ax.plot(1, 0, \">k\", transform=ax.get_yaxis_transform(), clip_on=False)\n",
    "ax.plot(0, 1, \"^k\", transform=ax.get_xaxis_transform(), clip_on=False)\n",
    "\n",
    "# Remove ticks\n",
    "ax.set_xticks([])\n",
    "ax.set_yticks([])\n",
    "\n",
    "ax.set_ylim(top=0.5, bottom=-0.3)\n",
    "\n",
    "ax.set_xlabel(r\"$\\Psi$\")\n",
    "ax.xaxis.set_label_coords(1.07, 0.42)\n",
    "\n",
    "fig.savefig(\"landau_free_energy.pgf\")\n",
    "plt.close(fig)"
   ],
   "id": "61592e73fbf793ea",
   "outputs": [],
   "execution_count": 108
  },
  {
   "metadata": {
    "ExecuteTime": {
     "end_time": "2025-01-17T13:24:01.718324Z",
     "start_time": "2025-01-17T13:24:01.715731Z"
    }
   },
   "cell_type": "code",
   "source": [
    "def ginzburg_landau_free_energy(phi_re, phi_im, a, t, T_C, u):\n",
    "    return -0.5 * a * T_C * (1 - t) * np.power(np.abs(phi_re + 1j * phi_im), 2) + 0.25 * u * np.power(np.abs(phi_re + 1j * phi_im), 4)"
   ],
   "id": "fb42d9bdfab6594c",
   "outputs": [],
   "execution_count": 109
  },
  {
   "metadata": {
    "ExecuteTime": {
     "end_time": "2025-01-17T13:24:02.078129Z",
     "start_time": "2025-01-17T13:24:01.761704Z"
    }
   },
   "cell_type": "code",
   "source": [
    "a = 1\n",
    "T_C = 1\n",
    "u = 1\n",
    "\n",
    "r = np.linspace(0, 1.3, 100)\n",
    "theta = np.linspace(0, 2*np.pi, 100)\n",
    "r, theta = np.meshgrid(r, theta)\n",
    "\n",
    "phi_RE = r * np.sin(theta)\n",
    "phi_IM = r * np.cos(theta)\n",
    "\n",
    "fig, ax = plt.subplots(figsize=(WIDTH, WIDTH), subplot_kw={\"projection\": \"3d\"})\n",
    "\n",
    "t = 1e-6\n",
    "Z = ginzburg_landau_free_energy(phi_RE, phi_IM, a, t, T_C, u)\n",
    "surf = ax.plot_surface(phi_RE, phi_IM, Z, cmap=cm.viridis, linewidth=0, antialiased=True)\n",
    "\n",
    "# Hide grid lines\n",
    "ax.grid(False)\n",
    "\n",
    "# Hide axes ticks\n",
    "ax.set_xticks([])\n",
    "ax.set_yticks([])\n",
    "ax.set_zticks([])\n",
    "\n",
    "ax.axis(\"off\")\n",
    "\n",
    "#ax.spines[\"left\"].set_position((\"data\", 0))\n",
    "#ax.spines[\"bottom\"].set_position((\"data\", 0))\n",
    "\n",
    "#ax.plot(1, 0, \">k\", transform=ax.get_yaxis_transform(), clip_on=False)\n",
    "\n",
    "fig.savefig(\"ginzburg_landau_free_energy.pgf\")\n",
    "plt.close(fig)"
   ],
   "id": "61a277daeac254ee",
   "outputs": [],
   "execution_count": 110
  },
  {
   "metadata": {
    "ExecuteTime": {
     "end_time": "2025-01-17T13:24:02.086919Z",
     "start_time": "2025-01-17T13:24:02.085188Z"
    }
   },
   "cell_type": "code",
   "source": [
    "def ginzburg_landau_order_parameter_vs_q(q):\n",
    "    return np.sqrt(1 - q**2)"
   ],
   "id": "3c1b320561ad3bf5",
   "outputs": [],
   "execution_count": 111
  },
  {
   "metadata": {
    "ExecuteTime": {
     "end_time": "2025-01-17T13:24:02.137091Z",
     "start_time": "2025-01-17T13:24:02.135302Z"
    }
   },
   "cell_type": "code",
   "source": [
    "def ginzburg_landau_current_vs_q(q):\n",
    "    return ginzburg_landau_order_parameter_vs_q(q)**2 * q"
   ],
   "id": "df46e30a6b0fcb15",
   "outputs": [],
   "execution_count": 112
  },
  {
   "metadata": {
    "ExecuteTime": {
     "end_time": "2025-01-17T13:24:02.344291Z",
     "start_time": "2025-01-17T13:24:02.186735Z"
    }
   },
   "cell_type": "code",
   "source": [
    "q_interpolate = np.linspace(0, 1, 100)\n",
    "\n",
    "fig, ax = plt.subplots(figsize=(WIDTH, WIDTH / 2))\n",
    "\n",
    "ax.plot(q_interpolate, ginzburg_landau_order_parameter_vs_q(q_interpolate))\n",
    "\n",
    "ax.set_ylabel(r\"$\\vert \\Psi_q \\vert$\")\n",
    "ax.set_xlabel(\"$q$\")\n",
    "\n",
    "zero_value = ginzburg_landau_order_parameter_vs_q(0)\n",
    "\n",
    "ax.set_xlim(left=0)\n",
    "ax.set_ylim(bottom=0, top=1.35 * zero_value)\n",
    "\n",
    "ax.spines[\"top\"].set_visible(False)\n",
    "ax.spines[\"right\"].set_visible(False)\n",
    "\n",
    "ax.plot(1, 0, \">k\", transform=ax.get_yaxis_transform(), clip_on=False)\n",
    "ax.plot(0, 1, \"^k\", transform=ax.get_xaxis_transform(), clip_on=False)\n",
    "ax.xaxis.set_label_coords(1.05, 0.01)\n",
    "ax.yaxis.set_label_coords(-0.07, 1.01)\n",
    "\n",
    "ax.tick_params(axis=\"x\", which=\"both\", bottom=True, top=False, labelbottom=True)\n",
    "ax.tick_params(axis=\"y\", which=\"both\", left=True, right=False, labelbottom=True)\n",
    "\n",
    "ax.grid(False)\n",
    "\n",
    "ax.set_yticks([0, zero_value], [0, r\"$\\vert \\Psi_0 \\vert$\"])\n",
    "ax.set_xticks([0, 1], [0, 1])\n",
    "\n",
    "fig.savefig(\"ginzburg_landau_OP_vs_q.pgf\")\n",
    "#plt.close(fig)\n",
    "\n",
    "q_interpolate = np.linspace(0, 1, 100)\n",
    "\n",
    "fig, ax = plt.subplots(figsize=(WIDTH, WIDTH / 2))\n",
    "\n",
    "maximum = fmin(lambda x: -ginzburg_landau_current_vs_q(x), 0, disp=False, full_output=True)\n",
    "\n",
    "ax.plot(q_interpolate, ginzburg_landau_current_vs_q(q_interpolate))\n",
    "\n",
    "ax.set_ylabel(\"$j_q$\", rotation=0)\n",
    "ax.set_xlabel(\"$q$\")\n",
    "\n",
    "ax.set_xlim(left=0)\n",
    "ax.set_ylim(bottom=0, top=-1.2 * maximum[1])\n",
    "\n",
    "ax.spines[\"top\"].set_visible(False)\n",
    "ax.spines[\"right\"].set_visible(False)\n",
    "\n",
    "ax.plot(1, 0, \">k\", transform=ax.get_yaxis_transform(), clip_on=False)\n",
    "ax.plot(0, 1, \"^k\", transform=ax.get_xaxis_transform(), clip_on=False)\n",
    "ax.xaxis.set_label_coords(1.05, 0.01)\n",
    "ax.yaxis.set_label_coords(-0.07, 1.01)\n",
    "\n",
    "ax.set_yticks([0, -maximum[1]], [0, \"$j_{dp}$\"])\n",
    "ax.set_xticks([0, maximum[0][0], 1], [0, \"\", 1])\n",
    "\n",
    "ax.tick_params(axis=\"x\", which=\"both\", bottom=True, top=False, labelbottom=True)\n",
    "ax.tick_params(axis=\"y\", which=\"both\", left=True, right=False, labelbottom=True)\n",
    "\n",
    "ax.grid(False)\n",
    "\n",
    "fig.savefig(\"ginzburg_landau_current_vs_q.pgf\")\n",
    "#plt.close(fig)"
   ],
   "id": "d86805fe1b6cb36b",
   "outputs": [
    {
     "data": {
      "text/plain": [
       "<Figure size 258.4x129.2 with 1 Axes>"
      ],
      "image/png": "[encoded data removed]"
     },
     "metadata": {},
     "output_type": "display_data"
    },
    {
     "data": {
      "text/plain": [
       "<Figure size 258.4x129.2 with 1 Axes>"
      ],
      "image/png": "[encoded data removed]"
     },
     "metadata": {},
     "output_type": "display_data"
    }
   ],
   "execution_count": 113
  }
 ],
 "metadata": {
  "kernelspec": {
   "display_name": "Python 3",
   "language": "python",
   "name": "python3"
  },
  "language_info": {
   "codemirror_mode": {
    "name": "ipython",
    "version": 2
   },
   "file_extension": ".py",
   "mimetype": "text/x-python",
   "name": "python",
   "nbconvert_exporter": "python",
   "pygments_lexer": "ipython2",
   "version": "2.7.6"
  }
 },
 "nbformat": 4,
 "nbformat_minor": 5
}
