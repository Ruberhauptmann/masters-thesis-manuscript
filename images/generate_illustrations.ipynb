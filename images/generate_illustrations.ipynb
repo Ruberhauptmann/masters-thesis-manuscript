{
 "cells": [
  {
   "cell_type": "code",
   "id": "initial_id",
   "metadata": {
    "collapsed": true,
    "ExecuteTime": {
     "end_time": "2025-04-12T05:39:57.470486Z",
     "start_time": "2025-04-12T05:39:56.821105Z"
    }
   },
   "source": [
    "import numpy as np\n",
    "import matplotlib.pyplot as plt\n",
    "from matplotlib import cm\n",
    "from scipy.optimize import fmin"
   ],
   "outputs": [],
   "execution_count": 1
  },
  {
   "metadata": {
    "ExecuteTime": {
     "end_time": "2025-04-12T05:39:57.483318Z",
     "start_time": "2025-04-12T05:39:57.480312Z"
    }
   },
   "cell_type": "code",
   "source": "WIDTH = 2.3",
   "id": "8b765cbeff301061",
   "outputs": [],
   "execution_count": 2
  },
  {
   "metadata": {
    "ExecuteTime": {
     "end_time": "2025-04-12T05:39:57.597472Z",
     "start_time": "2025-04-12T05:39:57.594721Z"
    }
   },
   "cell_type": "code",
   "source": "plt.style.use(['./thesis.mplstyle', \"petroff10\"])",
   "id": "ba5f295b819b7d81",
   "outputs": [],
   "execution_count": 3
  },
  {
   "metadata": {
    "ExecuteTime": {
     "end_time": "2025-04-12T05:39:57.649543Z",
     "start_time": "2025-04-12T05:39:57.645373Z"
    }
   },
   "cell_type": "code",
   "source": [
    "def landau_free_energy(phi, a, t, T_C, u):\n",
    "    return -0.5 * a * T_C * (1 - t) * np.power(np.abs(phi), 2) + 0.25 * u * np.power(np.abs(phi), 4)"
   ],
   "id": "3d8ea49536cdcb6e",
   "outputs": [],
   "execution_count": 4
  },
  {
   "metadata": {
    "ExecuteTime": {
     "end_time": "2025-04-12T05:39:59.856632Z",
     "start_time": "2025-04-12T05:39:57.738589Z"
    }
   },
   "cell_type": "code",
   "source": [
    "a = 1\n",
    "T_C = 1\n",
    "u = 1\n",
    "\n",
    "phi = np.linspace(-1.5, 1.5, num=500)\n",
    "\n",
    "fig, ax = plt.subplots(figsize=(WIDTH, WIDTH), layout=\"constrained\")\n",
    "\n",
    "t = 1e-6\n",
    "ax.plot(phi, landau_free_energy(phi, a, t, T_C, u), color=\"C0\")\n",
    "\n",
    "t = 0.4\n",
    "ax.plot(phi, landau_free_energy(phi, a, t, T_C, u), color=\"C1\")\n",
    "ax.text(-1.47, 0.35, r'$T < T_C$', size=\"small\", rotation=-80, color=\"C1\")\n",
    "\n",
    "t = 4\n",
    "ax.plot(phi, landau_free_energy(phi, a, t, T_C, u), color=\"C2\")\n",
    "ax.text(-0.55, 0.35, '$T > T_C$', size=\"small\", rotation=-80, color=\"C2\")\n",
    "\n",
    "t = 1\n",
    "ax.plot(phi, landau_free_energy(phi, a, t, T_C, u), color=\"C3\")\n",
    "ax.text(-1.15, 0.35, '$T = T_C$', size=\"small\", rotation=-80, color=\"C3\")\n",
    "\n",
    "# Move the left and bottom spines to x = 0 and y = 0, respectively.\n",
    "ax.spines[\"left\"].set_position((\"data\", 0))\n",
    "ax.spines[\"bottom\"].set_position((\"data\", 0))\n",
    "# Hide the top and right spines.\n",
    "ax.spines[\"top\"].set_visible(False)\n",
    "ax.spines[\"right\"].set_visible(False)\n",
    "\n",
    "ax.plot(1, 0, \">k\", transform=ax.get_yaxis_transform(), clip_on=False)\n",
    "ax.plot(0, 1, \"^k\", transform=ax.get_xaxis_transform(), clip_on=False)\n",
    "\n",
    "# Remove ticks\n",
    "ax.set_xticks([])\n",
    "ax.set_yticks([])\n",
    "\n",
    "ax.set_ylim(top=0.5, bottom=-0.3)\n",
    "\n",
    "ax.set_xlabel(r\"$\\Psi$\")\n",
    "ax.xaxis.set_label_coords(0.97, 0.34)\n",
    "\n",
    "ax.set_ylabel(r\"$f_{\\mathrm{L}}$\", rotation=0)\n",
    "ax.yaxis.set_label_coords(0.58, 0.95)\n",
    "\n",
    "fig.savefig(\"landau_free_energy.pgf\")\n",
    "plt.close(fig)"
   ],
   "id": "61592e73fbf793ea",
   "outputs": [],
   "execution_count": 5
  },
  {
   "metadata": {
    "ExecuteTime": {
     "end_time": "2025-04-12T05:39:59.863972Z",
     "start_time": "2025-04-12T05:39:59.861878Z"
    }
   },
   "cell_type": "code",
   "source": [
    "def ginzburg_landau_free_energy(phi_re, phi_im, a, t, T_C, u):\n",
    "    return -0.5 * a * T_C * (1 - t) * np.power(np.abs(phi_re + 1j * phi_im), 2) + 0.25 * u * np.power(np.abs(phi_re + 1j * phi_im), 4)"
   ],
   "id": "fb42d9bdfab6594c",
   "outputs": [],
   "execution_count": 6
  },
  {
   "metadata": {
    "ExecuteTime": {
     "end_time": "2025-04-12T10:07:07.291835Z",
     "start_time": "2025-04-12T10:07:06.923714Z"
    }
   },
   "cell_type": "code",
   "source": [
    "fig, ax = plt.subplots(figsize=(WIDTH, WIDTH), subplot_kw={\"projection\": \"3d\"}, layout=\"constrained\")\n",
    "\n",
    "a = 1\n",
    "T_C = 1\n",
    "u = 1\n",
    "t = 1e-6\n",
    "\n",
    "# Meshgrid in polar coordinates\n",
    "r = np.linspace(0, 1.28, 300)\n",
    "theta = np.linspace(0, 2 * np.pi, 300)\n",
    "r, theta = np.meshgrid(r, theta)\n",
    "\n",
    "# Convert to Cartesian (complex plane)\n",
    "phi_RE = r * np.cos(theta)\n",
    "phi_IM = r * np.sin(theta)\n",
    "\n",
    "# Compute free energy\n",
    "Z = ginzburg_landau_free_energy(phi_RE, phi_IM, a, t, T_C, u)\n",
    "\n",
    "#val_x = -2.05\n",
    "#val_y = -2.05\n",
    "val_z = 0.3\n",
    "origin = [0, 0, -0.2]\n",
    "arrow_len = 1.9\n",
    "\n",
    "#ax.quiver(*origin, arrow_len, 0, 0, color='k', arrow_length_ratio=0.04)\n",
    "#ax.text(x=arrow_len + 0.1, y=0, z=-0.2, s=r'$\\mathrm{Re}(\\Psi)$', fontsize=12)\n",
    "\n",
    "# Imag axis\n",
    "#ax.quiver(*origin, 0, arrow_len, 0, color='k', arrow_length_ratio=0.04)\n",
    "#ax.text(x=0, y=arrow_len + 0.1, z=-0.2, s=r'$\\mathrm{Im}(\\Psi)$', fontsize=12)\n",
    "\n",
    "# Free energy axis\n",
    "#ax.quiver(*origin, 0, 0, 0.4, color='k', arrow_length_ratio=0.1)\n",
    "#ax.text(x=0, y=0.1, z=0.05, s=r'$f_{\\mathrm{L}}$', fontsize=12)\n",
    "\n",
    "surf = ax.plot_surface(phi_RE, phi_IM, Z, cmap=cm.viridis, edgecolor='none', alpha=0.95)\n",
    "\n",
    "# Hide everything else\n",
    "# Hide axes ticks\n",
    "ax.set_xticks([])\n",
    "ax.set_yticks([])\n",
    "ax.set_zticks([])\n",
    "# Transparent panes and no grid lines\n",
    "for axis in [ax.xaxis, ax.yaxis, ax.zaxis]:\n",
    "    axis.set_pane_color((1.0, 1.0, 1.0, 0.0))\n",
    "    axis._axinfo[\"grid\"].update(color=(1,1,1,0))\n",
    "\n",
    "# Hide box axes\n",
    "ax._axis3don = False\n",
    "\n",
    "#ax.view_init(azim=-70, elev=30)\n",
    "\n",
    "# Expand to remove white space\n",
    "#max_x_y = 1.4\n",
    "#ax.set_xlim(np.array([-max_x_y, max_x_y]))\n",
    "#ax.set_ylim(np.array([-max_x_y, max_x_y]))\n",
    "#ax.set_zlim(np.array([-0.3, 0]))\n",
    "\n",
    "fig.savefig(\"ginzburg_landau_free_energy.pdf\")\n",
    "plt.close(fig)"
   ],
   "id": "61a277daeac254ee",
   "outputs": [],
   "execution_count": 75
  },
  {
   "metadata": {
    "ExecuteTime": {
     "end_time": "2025-04-12T05:40:00.220046Z",
     "start_time": "2025-04-12T05:40:00.218052Z"
    }
   },
   "cell_type": "code",
   "source": [
    "def ginzburg_landau_order_parameter_vs_q(q):\n",
    "    return np.sqrt(1 - q**2)"
   ],
   "id": "3c1b320561ad3bf5",
   "outputs": [],
   "execution_count": 8
  },
  {
   "metadata": {
    "ExecuteTime": {
     "end_time": "2025-04-12T05:40:00.268179Z",
     "start_time": "2025-04-12T05:40:00.265879Z"
    }
   },
   "cell_type": "code",
   "source": [
    "def ginzburg_landau_current_vs_q(q):\n",
    "    return ginzburg_landau_order_parameter_vs_q(q)**2 * q"
   ],
   "id": "df46e30a6b0fcb15",
   "outputs": [],
   "execution_count": 9
  },
  {
   "metadata": {
    "ExecuteTime": {
     "end_time": "2025-04-12T05:59:04.835197Z",
     "start_time": "2025-04-12T05:59:04.785455Z"
    }
   },
   "cell_type": "code",
   "source": [
    "q_interpolate = np.linspace(0, 1, 100)\n",
    "\n",
    "fig, ax = plt.subplots(layout=\"constrained\")\n",
    "\n",
    "ax.plot(q_interpolate, ginzburg_landau_order_parameter_vs_q(q_interpolate), color='C0')\n",
    "\n",
    "ax.set_ylabel(r\"$\\vert \\Psi_q \\vert$\", rotation=0)\n",
    "ax.set_xlabel(\"$q$\")\n",
    "\n",
    "zero_value = ginzburg_landau_order_parameter_vs_q(0)\n",
    "\n",
    "ax.set_xlim(left=0, right=1.1)\n",
    "ax.set_ylim(bottom=0, top=1.35 * zero_value)\n",
    "\n",
    "ax.spines[\"top\"].set_visible(False)\n",
    "ax.spines[\"right\"].set_visible(False)\n",
    "\n",
    "ax.plot(1, 0, \">k\", transform=ax.get_yaxis_transform(), clip_on=False)\n",
    "ax.plot(0, 1, \"^k\", transform=ax.get_xaxis_transform(), clip_on=False)\n",
    "ax.xaxis.set_label_coords(1.02, 0.25)\n",
    "ax.yaxis.set_label_coords(0.105, 0.89)\n",
    "\n",
    "ax.tick_params(axis=\"x\", which=\"both\", bottom=True, top=False, labelbottom=True)\n",
    "ax.tick_params(axis=\"y\", which=\"both\", left=True, right=False, labelbottom=True)\n",
    "\n",
    "ax.grid(False)\n",
    "\n",
    "ax.set_yticks([zero_value], [r\"$\\vert \\Psi_0 \\vert$\"])\n",
    "ax.set_xticks([1], [\"$q_c$\"])\n",
    "\n",
    "fig.set_figwidth(WIDTH)\n",
    "fig.set_figheight(WIDTH / 2)\n",
    "\n",
    "fig.savefig(\"ginzburg_landau_OP_vs_q.pgf\")\n",
    "plt.close(fig)\n",
    "\n",
    "q_interpolate = np.linspace(0, 1, 100)\n",
    "\n",
    "fig, ax = plt.subplots(layout=\"constrained\")\n",
    "\n",
    "maximum = fmin(lambda x: -ginzburg_landau_current_vs_q(x), 0, disp=False, full_output=True)\n",
    "\n",
    "ax.plot(q_interpolate, ginzburg_landau_current_vs_q(q_interpolate))\n",
    "ax.hlines(y=-maximum[1], xmin=0, xmax=1/np.sqrt(3), color='gray', linestyle='--', linewidth=0.5)\n",
    "ax.vlines(x=maximum[0][0], ymin=0, ymax=-maximum[1], color='gray', linestyle='--', linewidth=0.5)\n",
    "\n",
    "ax.set_ylabel(\"$j_q$\", rotation=0)\n",
    "ax.set_xlabel(\"$q$\")\n",
    "\n",
    "ax.set_xlim(left=0)\n",
    "ax.set_ylim(bottom=0, top=-1.2 * maximum[1])\n",
    "\n",
    "ax.spines[\"top\"].set_visible(False)\n",
    "ax.spines[\"right\"].set_visible(False)\n",
    "\n",
    "ax.plot(1, 0, \">k\", transform=ax.get_yaxis_transform(), clip_on=False)\n",
    "ax.plot(0, 1, \"^k\", transform=ax.get_xaxis_transform(), clip_on=False)\n",
    "ax.xaxis.set_label_coords(1.02, 0.25)\n",
    "ax.yaxis.set_label_coords(0.08, 0.89)\n",
    "\n",
    "ax.set_yticks([-maximum[1]], [r\"$j_{\\mathrm{dp}}$\"])\n",
    "ax.set_xticks([maximum[0][0]], [r\"$q_{\\mathrm{max}}$\"])\n",
    "\n",
    "ax.tick_params(axis=\"x\", which=\"both\", bottom=True, top=False, labelbottom=True)\n",
    "ax.tick_params(axis=\"y\", which=\"both\", left=True, right=False, labelbottom=True)\n",
    "\n",
    "ax.grid(False)\n",
    "\n",
    "fig.set_figwidth(WIDTH)\n",
    "fig.set_figheight(WIDTH / 2)\n",
    "\n",
    "fig.savefig(\"ginzburg_landau_current_vs_q.pgf\")\n",
    "plt.close(fig)"
   ],
   "id": "d86805fe1b6cb36b",
   "outputs": [],
   "execution_count": 30
  }
 ],
 "metadata": {
  "kernelspec": {
   "display_name": "Python 3",
   "language": "python",
   "name": "python3"
  },
  "language_info": {
   "codemirror_mode": {
    "name": "ipython",
    "version": 2
   },
   "file_extension": ".py",
   "mimetype": "text/x-python",
   "name": "python",
   "nbconvert_exporter": "python",
   "pygments_lexer": "ipython2",
   "version": "2.7.6"
  }
 },
 "nbformat": 4,
 "nbformat_minor": 5
}
