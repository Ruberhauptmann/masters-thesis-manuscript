{
 "cells": [
  {
   "cell_type": "code",
   "id": "initial_id",
   "metadata": {
    "collapsed": true,
    "ExecuteTime": {
     "end_time": "2024-12-19T14:06:06.045082Z",
     "start_time": "2024-12-19T14:06:06.040379Z"
    }
   },
   "source": [
    "import numpy as np\n",
    "import matplotlib.pyplot as plt\n",
    "import scienceplots"
   ],
   "outputs": [],
   "execution_count": 24
  },
  {
   "metadata": {
    "ExecuteTime": {
     "end_time": "2024-12-19T14:06:06.117918Z",
     "start_time": "2024-12-19T14:06:06.115445Z"
    }
   },
   "cell_type": "code",
   "source": [
    "#plt.style.use(['./thesis.mplstyle', \"science\", \"grid\", \"muted\"])\n",
    "plt.style.use(['./thesis.mplstyle'])\n"
   ],
   "id": "ba5f295b819b7d81",
   "outputs": [],
   "execution_count": 25
  },
  {
   "metadata": {
    "ExecuteTime": {
     "end_time": "2024-12-19T14:06:06.162276Z",
     "start_time": "2024-12-19T14:06:06.158515Z"
    }
   },
   "cell_type": "code",
   "source": [
    "def landau_free_energy(phi, a, t, T_C, u):\n",
    "    return -0.5 * a * T_C * (1 - t) * np.power(np.abs(phi), 2) + 0.25 * u * np.power(np.abs(phi), 4)"
   ],
   "id": "3d8ea49536cdcb6e",
   "outputs": [],
   "execution_count": 26
  },
  {
   "metadata": {
    "ExecuteTime": {
     "end_time": "2024-12-19T14:06:06.602508Z",
     "start_time": "2024-12-19T14:06:06.211587Z"
    }
   },
   "cell_type": "code",
   "source": [
    "a = 1\n",
    "T_C = 1\n",
    "u = 1\n",
    "\n",
    "phi = np.linspace(-1.5, 1.5, num=500)\n",
    "\n",
    "fig, ax = plt.subplots(figsize=(2.59, 2.59))\n",
    "\n",
    "t = 0.5\n",
    "ax.plot(phi, landau_free_energy(phi, a, t, T_C, u))\n",
    "ax.text(0.08, 0.2, r'$T < T_C$', color=\"C0\")\n",
    "\n",
    "t = 1e-6\n",
    "ax.plot(phi, landau_free_energy(phi, a, t, T_C, u))\n",
    "\n",
    "t = 4\n",
    "ax.plot(phi, landau_free_energy(phi, a, t, T_C, u))\n",
    "ax.text(0.08, 0.2, '$T > T_C$', color=\"C2\")\n",
    "\n",
    "t = 1\n",
    "ax.plot(phi, landau_free_energy(phi, a, t, T_C, u))\n",
    "ax.text(0.08, 0.4, '$T = T_C$', color=\"C3\")\n",
    "\n",
    "# Move the left and bottom spines to x = 0 and y = 0, respectively.\n",
    "ax.spines[\"left\"].set_position((\"data\", 0))\n",
    "ax.spines[\"bottom\"].set_position((\"data\", 0))\n",
    "# Hide the top and right spines.\n",
    "ax.spines[\"top\"].set_visible(False)\n",
    "ax.spines[\"right\"].set_visible(False)\n",
    "\n",
    "ax.plot(1, 0, \">k\", transform=ax.get_yaxis_transform(), clip_on=False)\n",
    "ax.plot(0, 1, \"^k\", transform=ax.get_xaxis_transform(), clip_on=False)\n",
    "\n",
    "# Remove ticks\n",
    "ax.set_xticks([])\n",
    "ax.set_yticks([])\n",
    "\n",
    "ax.set_ylim(top=0.5, bottom=-0.3)\n",
    "\n",
    "ax.set_xlabel(r\"$\\Psi$\")\n",
    "ax.xaxis.set_label_coords(1.07, 0.42)\n",
    "\n",
    "fig.savefig(\"landau_free_energy.pgf\")"
   ],
   "id": "61592e73fbf793ea",
   "outputs": [
    {
     "data": {
      "text/plain": [
       "<Figure size 259x259 with 1 Axes>"
      ],
      "image/png": "[encoded data removed]"
     },
     "metadata": {},
     "output_type": "display_data"
    }
   ],
   "execution_count": 27
  },
  {
   "metadata": {
    "ExecuteTime": {
     "end_time": "2024-12-19T14:06:06.624035Z",
     "start_time": "2024-12-19T14:06:06.620621Z"
    }
   },
   "cell_type": "code",
   "source": [
    "def ginzburg_landau_free_energy(phi_re, phi_im, a, t, T_C, u):\n",
    "    return -0.5 * a * T_C * (1 - t) * np.power(np.abs(phi_re + 1j * phi_im), 2) + 0.25 * u * np.power(np.abs(phi_re + 1j * phi_im), 4)"
   ],
   "id": "fb42d9bdfab6594c",
   "outputs": [],
   "execution_count": 28
  },
  {
   "metadata": {
    "jupyter": {
     "is_executing": true
    },
    "ExecuteTime": {
     "start_time": "2024-12-19T14:06:06.670377Z"
    }
   },
   "cell_type": "code",
   "source": [
    "from matplotlib import cm\n",
    "\n",
    "a = 1\n",
    "T_C = 1\n",
    "u = 1\n",
    "\n",
    "r = np.linspace(0, 1.3, 100)\n",
    "theta = np.linspace(0, 2*np.pi, 100)\n",
    "r, theta = np.meshgrid(r, theta)\n",
    "\n",
    "phi_RE = r * np.sin(theta)\n",
    "phi_IM = r * np.cos(theta)\n",
    "\n",
    "fig, ax = plt.subplots(figsize=(2.59, 2.59), subplot_kw={\"projection\": \"3d\"})\n",
    "#fig, ax = plt.subplots(subplot_kw={\"projection\": \"3d\"})\n",
    "\n",
    "# Customize the z axis.\n",
    "#ax.set_zlim(-1.01, 1.01)\n",
    "#ax.zaxis.set_major_locator(LinearLocator(10))\n",
    "# A StrMethodFormatter is used automatically\n",
    "#ax.zaxis.set_major_formatter('{x:.02f}')\n",
    "\n",
    "# Add a color bar which maps values to colors.\n",
    "#fig.colorbar(surf, shrink=0.5, aspect=5)\n",
    "\n",
    "\n",
    "t = 1e-6\n",
    "Z = ginzburg_landau_free_energy(phi_RE, phi_IM, a, t, T_C, u)\n",
    "surf = ax.plot_surface(phi_RE, phi_IM, Z, cmap=cm.coolwarm, linewidth=0, antialiased=False)\n",
    "#ax.text(0.08, 0.2, r'$T < T_C$', color=\"C0\")\n",
    "\n",
    "\"\"\"\n",
    "t = 1e-6\n",
    "ax.plot(phi, landau_free_energy(phi, a, t, T_C, u))\n",
    "\n",
    "t = 4\n",
    "ax.plot(phi, landau_free_energy(phi, a, t, T_C, u))\n",
    "ax.text(0.08, 0.2, '$T > T_C$', color=\"C2\")\n",
    "\n",
    "t = 1\n",
    "ax.plot(phi, landau_free_energy(phi, a, t, T_C, u))\n",
    "ax.text(0.08, 0.4, '$T = T_C$', color=\"C3\")\n",
    "\"\"\"\n",
    "\n",
    "fig.savefig(\"ginzburg_landau_free_energy.pgf\")"
   ],
   "id": "61a277daeac254ee",
   "outputs": [],
   "execution_count": null
  }
 ],
 "metadata": {
  "kernelspec": {
   "display_name": "Python 3",
   "language": "python",
   "name": "python3"
  },
  "language_info": {
   "codemirror_mode": {
    "name": "ipython",
    "version": 2
   },
   "file_extension": ".py",
   "mimetype": "text/x-python",
   "name": "python",
   "nbconvert_exporter": "python",
   "pygments_lexer": "ipython2",
   "version": "2.7.6"
  }
 },
 "nbformat": 4,
 "nbformat_minor": 5
}
