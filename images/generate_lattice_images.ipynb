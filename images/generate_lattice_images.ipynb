{
 "cells": [
  {
   "cell_type": "code",
   "id": "initial_id",
   "metadata": {
    "collapsed": true,
    "ExecuteTime": {
     "end_time": "2025-04-14T07:11:00.268544Z",
     "start_time": "2025-04-14T07:11:00.266520Z"
    }
   },
   "source": [
    "import numpy as np\n",
    "import matplotlib.pyplot as plt\n",
    "import lattpy as lp\n",
    "from lattpy import plotting"
   ],
   "outputs": [],
   "execution_count": 5
  },
  {
   "metadata": {
    "ExecuteTime": {
     "end_time": "2025-04-14T07:11:00.313249Z",
     "start_time": "2025-04-14T07:11:00.310395Z"
    }
   },
   "cell_type": "code",
   "source": [
    "WIDTH = 5.6\n",
    "plt.style.use(['./thesis.mplstyle', \"petroff10\"])"
   ],
   "id": "3d1b8f8849e50376",
   "outputs": [],
   "execution_count": 6
  },
  {
   "metadata": {
    "ExecuteTime": {
     "end_time": "2025-04-14T07:11:00.514853Z",
     "start_time": "2025-04-14T07:11:00.358086Z"
    }
   },
   "cell_type": "code",
   "source": [
    "a_0 = 1\n",
    "a = np.sqrt(3) * a_0\n",
    "\n",
    "graphene_A = lp.Atom(\"A\", radius=0.09)\n",
    "graphene_B = lp.Atom(\"B\", radius=0.09)\n",
    "\n",
    "basis = 0.5 * a * np.array([[1, np.sqrt(3)],\n",
    "                  [1, -np.sqrt(3)]])\n",
    "\n",
    "latt = lp.Lattice(basis)\n",
    "\n",
    "\n",
    "latt.add_atom([0.5 * a, -0.5 * a / np.sqrt(3)], graphene_A)\n",
    "latt.add_atom([0.5 * a, 0.5 * a / np.sqrt(3)], graphene_B)\n",
    "latt.add_connection(graphene_A, graphene_B, analyze=True)\n",
    "\n",
    "structure = latt.build((7, 6))\n",
    "\n",
    "#ax = latt.plot(show_indices=True)\n",
    "\n",
    "fig, ax = plt.subplots(figsize=(WIDTH / 2, WIDTH / 2.5))\n",
    "\n",
    "ax = latt.plot(ax=ax)\n",
    "\n",
    "ax.legend(loc='lower left')\n",
    "\n",
    "lp.plotting.hide_box(ax, axis=True)\n",
    "\n",
    "lp.plotting.draw_arrows(ax, basis[0], pos=latt.center())\n",
    "lp.plotting.draw_arrows(ax, basis[1], pos=latt.center())\n",
    "\n",
    "lp.plotting.draw_vectors(ax, [basis[0][0], -basis[0][1]], pos=latt.center() + basis[0], linestyle='dashed', color='k')\n",
    "lp.plotting.draw_vectors(ax, [basis[1][0], -basis[1][1]], pos=latt.center() + basis[1], linestyle='dashed', color='k')\n",
    "\n",
    "arrow_1 = lp.plotting.draw_arrows(ax, [0, a / np.sqrt(3)], pos=latt.position(21), linewidth=2000)\n",
    "\n",
    "ax.text(3.6, 4.2, '$\\mathbf{a}_1$', size=\"small\", rotation=0)\n",
    "ax.text(3.6, 1.5, '$\\mathbf{a}_2$', size=\"small\", rotation=0)\n",
    "\n",
    "fig.savefig('graphene lattice.pgf')\n",
    "#plt.close(fig)"
   ],
   "id": "7de299e136819005",
   "outputs": [
    {
     "data": {
      "text/plain": [
       "<Figure size 280x224 with 1 Axes>"
      ],
      "image/png": "[encoded data removed]"
     },
     "metadata": {},
     "output_type": "display_data"
    }
   ],
   "execution_count": 7
  },
  {
   "metadata": {
    "ExecuteTime": {
     "end_time": "2025-04-14T07:11:00.627848Z",
     "start_time": "2025-04-14T07:11:00.522601Z"
    }
   },
   "cell_type": "code",
   "source": [
    "reciprocal_lattice = latt.reciprocal_lattice()\n",
    "\n",
    "basis = reciprocal_lattice.vectors\n",
    "\n",
    "bz = reciprocal_lattice.wigner_seitz_cell()\n",
    "\n",
    "fig, ax = plt.subplots(figsize=(WIDTH / 2, WIDTH / 2.5))\n",
    "\n",
    "ax = bz.draw(color='black', ax=ax)\n",
    "\n",
    "lp.plotting.draw_arrows(ax, basis[0])\n",
    "lp.plotting.draw_arrows(ax, basis[1])\n",
    "#ax.annotate('$\\mathbf{b}_1$', basis[0])\n",
    "\n",
    "Gamma = bz.symmetry_points()[0]\n",
    "M = bz.symmetry_points()[2][5]\n",
    "K = bz.symmetry_points()[1][4]\n",
    "\n",
    "lp.plotting.draw_points(ax, Gamma, color='black', size=6)\n",
    "lp.plotting.draw_points(ax, M, color='black', size=6)\n",
    "lp.plotting.draw_points(ax, K, color='black', size=6)\n",
    "\n",
    "lp.plotting.draw_line(ax, np.array([Gamma, M, K, Gamma]), color='black')\n",
    "\n",
    "ax.annotate('$\\Gamma$', (Gamma[0], Gamma[1]), xytext=(2, 6), textcoords='offset points', fontsize='medium')\n",
    "ax.annotate('$\\mathrm{M}$', (M[0], M[1]), xytext=(-1, 6), textcoords='offset points', fontsize='medium')\n",
    "ax.annotate('$\\mathrm{K}$', (K[0], K[1]), xytext=(0, 5), textcoords='offset points', fontsize='medium')\n",
    "\n",
    "ax.text(2.75, 2.3, '$\\mathbf{b}_1$', size=\"small\", rotation=0)\n",
    "ax.text(2.75, -2.5, '$\\mathbf{b}_2$', size=\"small\", rotation=0)\n",
    "\n",
    "lp.plotting.hide_box(ax, axis=True)\n",
    "\n",
    "fig.savefig('graphene brillouin_zone.pgf')\n",
    "#plt.close(fig)"
   ],
   "id": "8591e21ca37bd382",
   "outputs": [
    {
     "data": {
      "text/plain": [
       "<Figure size 280x224 with 1 Axes>"
      ],
      "image/png": "[encoded data removed]"
     },
     "metadata": {},
     "output_type": "display_data"
    }
   ],
   "execution_count": 8
  }
 ],
 "metadata": {
  "kernelspec": {
   "display_name": "Python 3",
   "language": "python",
   "name": "python3"
  },
  "language_info": {
   "codemirror_mode": {
    "name": "ipython",
    "version": 2
   },
   "file_extension": ".py",
   "mimetype": "text/x-python",
   "name": "python",
   "nbconvert_exporter": "python",
   "pygments_lexer": "ipython2",
   "version": "2.7.6"
  }
 },
 "nbformat": 4,
 "nbformat_minor": 5
}
