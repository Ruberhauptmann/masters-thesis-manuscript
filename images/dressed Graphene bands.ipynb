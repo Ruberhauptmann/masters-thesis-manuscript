{
 "cells": [
  {
   "metadata": {
    "ExecuteTime": {
     "end_time": "2025-02-20T19:22:26.127671Z",
     "start_time": "2025-02-20T19:22:26.122869Z"
    }
   },
   "cell_type": "code",
   "source": [
    "import numpy as np\n",
    "import matplotlib.pyplot as plt\n",
    "import matplotlib\n",
    "import numpy.typing as npt\n",
    "from matplotlib.collections import Collection\n",
    "from matplotlib.collections import LineCollection\n",
    "from quant_met import mean_field, geometry, parameters"
   ],
   "id": "24236f76-513e-4b60-b98a-9fcc70552f8e",
   "outputs": [],
   "execution_count": 34
  },
  {
   "metadata": {
    "ExecuteTime": {
     "end_time": "2025-02-20T19:22:26.152330Z",
     "start_time": "2025-02-20T19:22:26.149428Z"
    }
   },
   "cell_type": "code",
   "source": [
    "WIDTH = 2.584 * 2\n",
    "plt.style.use(['./thesis.mplstyle', \"petroff10\"])"
   ],
   "id": "119ae2b56544f815",
   "outputs": [],
   "execution_count": 35
  },
  {
   "metadata": {
    "ExecuteTime": {
     "end_time": "2025-02-20T19:22:26.205751Z",
     "start_time": "2025-02-20T19:22:26.197814Z"
    }
   },
   "cell_type": "code",
   "source": [
    "graphene_lattice = geometry.GrapheneLattice(lattice_constant=np.sqrt(3))\n",
    "n = 1000  # number of points across the whole k space path\n",
    "t_gr = 1\n",
    "t_x = 0\n",
    "band_path, band_path_plot, ticks, labels = graphene_lattice.generate_high_symmetry_path(number_of_points=n)"
   ],
   "id": "6fbfa31a80812e90",
   "outputs": [],
   "execution_count": 36
  },
  {
   "metadata": {
    "ExecuteTime": {
     "end_time": "2025-02-20T19:22:26.263635Z",
     "start_time": "2025-02-20T19:22:26.253353Z"
    }
   },
   "cell_type": "code",
   "source": [
    "def plot_bandstructure(\n",
    "        bands: npt.NDArray[np.floating],\n",
    "        k_point_list: npt.NDArray[np.floating],\n",
    "        ticks: list[float],\n",
    "        labels: list[str],\n",
    "        overlaps: npt.NDArray[np.floating] | None = None,\n",
    "        overlap_labels: list[str] | None = None,\n",
    "        fig_in: matplotlib.figure.Figure | None = None,\n",
    "        ax_in: matplotlib.axes.Axes | None = None,\n",
    ") -> matplotlib.figure.Figure:\n",
    "    \"\"\"Plot bands along a k space path.\n",
    "\n",
    "    To have a plot that respects the distances in k space and generate everything that is needed for\n",
    "    plotting, use the function :func:`~quant_met.plotting.generate_bz_path`.\n",
    "\n",
    "    Parameters\n",
    "    ----------\n",
    "    bands : :class:`numpy.ndarray`\n",
    "    k_point_list : :class:`numpy.ndarray`\n",
    "        List of points to plot against. This is not a list of two-dimensional k-points!\n",
    "    ticks : list(float)\n",
    "        Position for ticks.\n",
    "    labels : list(str)\n",
    "        Labels on ticks.\n",
    "    overlaps : :class:`numpy.ndarray`, optional\n",
    "        Overlaps.\n",
    "    overlap_labels : list(str), optional\n",
    "        Labels to put on overlaps.\n",
    "    fig_in : :class:`matplotlib.figure.Figure`, optional\n",
    "        Figure that holds the axes. If not provided, a new figure and ax is created.\n",
    "    ax_in : :class:`matplotlib.axes.Axes`, optional\n",
    "        Ax to plot the data in. If not provided, a new figure and ax is created.\n",
    "\n",
    "    Returns\n",
    "    -------\n",
    "    :obj:`matplotlib.figure.Figure`\n",
    "        Figure with the data plotted onto the axis.\n",
    "\n",
    "    \"\"\"\n",
    "    if fig_in is None or ax_in is None:\n",
    "        fig, ax = plt.subplots()\n",
    "    else:\n",
    "        fig, ax = fig_in, ax_in\n",
    "\n",
    "    ax.axhline(y=0, alpha=0.7, linestyle=\"--\", color=\"black\")\n",
    "\n",
    "    if overlaps is None:\n",
    "        for band in bands:\n",
    "            ax.plot(k_point_list, band)\n",
    "    else:\n",
    "        line = Collection()\n",
    "        for band, wx in zip(bands, overlaps, strict=True):\n",
    "            points = np.array([k_point_list, band]).T.reshape(-1, 1, 2)\n",
    "            segments = np.concatenate([points[:-1], points[1:]], axis=1)\n",
    "\n",
    "            norm = matplotlib.colors.Normalize(-1, 1)\n",
    "            lc = LineCollection(segments, cmap=\"bwr\", norm=norm)\n",
    "            lc.set_array(wx)\n",
    "            lc.set_linewidth(2)\n",
    "            line = ax.add_collection(lc)\n",
    "\n",
    "\n",
    "    ax.set_ylim(\n",
    "        top=float(np.max(bands) + 0.1 * np.max(bands)),\n",
    "        bottom=float(np.min(bands) - 0.1 * np.abs(np.min(bands))),\n",
    "    )\n",
    "    ax.set_xticks(ticks, labels)\n",
    "\n",
    "    return fig, line"
   ],
   "id": "aab350dbf92d278c",
   "outputs": [],
   "execution_count": 37
  },
  {
   "metadata": {
    "ExecuteTime": {
     "end_time": "2025-02-20T19:22:28.459092Z",
     "start_time": "2025-02-20T19:22:26.312646Z"
    }
   },
   "cell_type": "code",
   "source": [
    "V_list = [0, 0.5, 1.4, 4]\n",
    "\n",
    "fig, axs = plt.subplots(nrows=1, ncols=len(V_list), figsize=(WIDTH, WIDTH / 3.5), sharey=True)\n",
    "\n",
    "fig.subplots_adjust(wspace=0)\n",
    "\n",
    "for V, ax in zip(V_list, axs):\n",
    "    dressed_graphene_h = mean_field.hamiltonians.DressedGraphene(\n",
    "        parameters=parameters.DressedGrapheneParameters(\n",
    "            hopping_gr=t_gr, hopping_x=t_x, hopping_x_gr_a=V, lattice_constant=graphene_lattice.lattice_constant, chemical_potential=0, hubbard_int_orbital_basis=[0.0, 0.0, 0.0]\n",
    "        )\n",
    "    )\n",
    "    \n",
    "    band_structure = dressed_graphene_h.calculate_bandstructure(band_path, overlaps=np.array([[0, 0, 1], [1, 0, 0]]))\n",
    "    \n",
    "    bands = band_structure[['band_0', 'band_1', 'band_2']]\n",
    "    overlaps = band_structure[['wx_0', 'wx_1', 'wx_2']]\n",
    "    \n",
    "    fig, line = plot_bandstructure(bands=bands.to_numpy().T, overlaps=overlaps.to_numpy().T, k_point_list=band_path_plot, ticks=ticks, labels=labels, ax_in=ax, fig_in=fig, overlap_labels=[r\"$w_{\\mathrm{Gr}_1}$\", r\"$w_X$\"])\n",
    "\n",
    "    overlap_labels = [r\"$w_{\\mathrm{Gr}_1}$\", r\"$w_X$\"]\n",
    "\n",
    "    ax.set_title(fr'$V/t = {V}$')\n",
    "    ax.tick_params(axis='x')\n",
    "\n",
    "cbar_ax = fig.add_axes([0.85, 0.15, 0.05, 0.7])\n",
    "#colorbar = fig.colorbar(line, fraction=0.046, pad=0.04, ax=ax)\n",
    "colorbar = fig.colorbar(line, fraction=0.2, pad=0.04, ax=cbar_ax)\n",
    "color_ticks = [-1, 1]\n",
    "colorbar.set_ticks(ticks=color_ticks, labels=overlap_labels)\n",
    "\n",
    "ax = axs[0]\n",
    "ax.set_ylabel(r'$\\epsilon$')\n",
    "\n",
    "fig.savefig('dressed graphene bands.pgf')"
   ],
   "id": "63af3878-6dd9-46f9-b36c-5d83da05d344",
   "outputs": [
    {
     "data": {
      "text/plain": [
       "<Figure size 516.8x147.657 with 6 Axes>"
      ],
      "image/png": "[encoded data removed]"
     },
     "metadata": {},
     "output_type": "display_data"
    }
   ],
   "execution_count": 38
  },
  {
   "metadata": {
    "ExecuteTime": {
     "end_time": "2025-02-20T19:22:28.469830Z",
     "start_time": "2025-02-20T19:22:28.468301Z"
    }
   },
   "cell_type": "code",
   "source": "",
   "id": "8de39516c2786a21",
   "outputs": [],
   "execution_count": null
  }
 ],
 "metadata": {
  "kernelspec": {
   "name": "python3",
   "language": "python",
   "display_name": "Python 3 (ipykernel)"
  },
  "language_info": {
   "codemirror_mode": {
    "name": "ipython",
    "version": 3
   },
   "file_extension": ".py",
   "mimetype": "text/x-python",
   "name": "python",
   "nbconvert_exporter": "python",
   "pygments_lexer": "ipython3",
   "version": "3.11.3"
  }
 },
 "nbformat": 4,
 "nbformat_minor": 5
}
